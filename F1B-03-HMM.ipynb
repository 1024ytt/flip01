{
 "cells": [
  {
   "cell_type": "markdown",
   "metadata": {},
   "source": [
    "# FLIP(01):  Advanced Data Science\n",
    "**(Module 01: Pattern Classification)**\n",
    "\n",
    "---\n",
    "- Materials in this module include resources collected from various open-source online repositories.\n",
    "- You are free to use, but NOT allowed to change or distribute this package.\n",
    "\n",
    "Prepared by and for \n",
    "**Student Members** |\n",
    "2006-2018 [TULIP Lab](http://www.tulip.org.au)\n",
    "\n",
    "---\n",
    "\n",
    "\n",
    "# Session 03 -  Hidden Markov Model:HMM"
   ]
  },
  {
   "cell_type": "code",
   "execution_count": null,
   "metadata": {
    "collapsed": true
   },
   "outputs": [],
   "source": [
    "#pip install -U --user hmmlearn\n",
    "#https://github.com/hmmlearn/hmmlearn\n",
    "from hmmlearn import hmm\n",
    "import numpy as np\n",
    "from random import seed\n",
    "\n",
    "seed(1000)"
   ]
  },
  {
   "cell_type": "code",
   "execution_count": null,
   "metadata": {
    "collapsed": false
   },
   "outputs": [],
   "source": [
    "#Declare model\n",
    "#n_compents is the number of hidden states\n",
    "model = hmm.GaussianHMM(n_components=4, covariance_type=\"full\")"
   ]
  },
  {
   "cell_type": "code",
   "execution_count": null,
   "metadata": {
    "collapsed": false
   },
   "outputs": [],
   "source": [
    "#Get data\n",
    "current_company_id = -1\n",
    "company_lengths = []\n",
    "current_count = 0\n",
    "X = []\n",
    "\n",
    "with open(\"hmm_data.csv\", \"r\") as data_file:\n",
    "    for row in data_file.readlines():\n",
    "        cols = row.split(\",\")\n",
    "        client_id = cols[0]\n",
    "        try:\n",
    "            repayment = float(cols[-3])\n",
    "            passons = float(cols[-2])\n",
    "            logins = float(cols[-1])\n",
    "            if client_id != current_company_id:\n",
    "                company_lengths.append(current_count)\n",
    "                current_company_id = client_id\n",
    "                current_count = 0\n",
    "\n",
    "            X.append([repayment, passons, logins])\n",
    "            current_count += 1\n",
    "        except:\n",
    "            print(cols)\n",
    "        \n",
    "X = np.array(X[1:])\n",
    "company_lengths = company_lengths[1:]"
   ]
  },
  {
   "cell_type": "code",
   "execution_count": null,
   "metadata": {
    "collapsed": false
   },
   "outputs": [],
   "source": [
    "model.fit(X) "
   ]
  },
  {
   "cell_type": "code",
   "execution_count": null,
   "metadata": {
    "collapsed": false
   },
   "outputs": [],
   "source": [
    "model.means_"
   ]
  },
  {
   "cell_type": "code",
   "execution_count": null,
   "metadata": {
    "collapsed": false
   },
   "outputs": [],
   "source": [
    "model.transmat_\n",
    "# Note the rows add to 1 so the 3rd column of the 1st row is the probability of going from \n",
    "# State 1 to State 3"
   ]
  },
  {
   "cell_type": "code",
   "execution_count": null,
   "metadata": {
    "collapsed": false
   },
   "outputs": [],
   "source": [
    "for x_row in model.predict(X):\n",
    "    print(x_row)"
   ]
  }
 ],
 "metadata": {
  "anaconda-cloud": {},
  "kernelspec": {
   "display_name": "Python [Root]",
   "language": "python",
   "name": "Python [Root]"
  },
  "language_info": {
   "codemirror_mode": {
    "name": "ipython",
    "version": 3
   },
   "file_extension": ".py",
   "mimetype": "text/x-python",
   "name": "python",
   "nbconvert_exporter": "python",
   "pygments_lexer": "ipython3",
   "version": "3.5.2"
  }
 },
 "nbformat": 4,
 "nbformat_minor": 1
}
